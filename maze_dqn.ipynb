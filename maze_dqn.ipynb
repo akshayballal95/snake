{
 "cells": [
  {
   "cell_type": "code",
   "execution_count": 1,
   "metadata": {},
   "outputs": [],
   "source": [
    "from environment import EnvironmentGoogleSnake\n",
    "from torch import nn\n",
    "import torch\n",
    "\n",
    "from torchvision.transforms import ToTensor\n",
    "\n",
    "import gymnasium as gym\n",
    "import numpy as np\n",
    "\n",
    "import matplotlib.pyplot as plt\n",
    "import copy\n",
    "\n",
    "\n",
    "from torchinfo import summary"
   ]
  },
  {
   "cell_type": "code",
   "execution_count": 2,
   "metadata": {},
   "outputs": [],
   "source": [
    "class PreProcessEnv(gym.Wrapper):\n",
    "\n",
    "    def __init__(self, env):\n",
    "        gym.Wrapper.__init__(self, env=env)\n",
    "\n",
    "    def reset(self):\n",
    "        obs = self.env.reset()\n",
    "        return torch.tensor(obs).unsqueeze(dim = 0).float()\n",
    "    \n",
    "    def step(self, action: torch.Tensor):\n",
    "        action = action.item()\n",
    "        next_state, reward, done, info = self.env.step(action)\n",
    "        next_state = torch.tensor(next_state).unsqueeze(dim = 0).float()\n",
    "        reward = torch.tensor(reward).view(1, -1).float()\n",
    "        done = torch.tensor(done).view(1, -1)\n",
    "        return next_state, reward, done, info\n",
    "    "
   ]
  },
  {
   "cell_type": "code",
   "execution_count": 3,
   "metadata": {},
   "outputs": [
    {
     "name": "stderr",
     "output_type": "stream",
     "text": [
      "c:\\Users\\ANT-PC\\anaconda3\\envs\\autodrive-env\\lib\\site-packages\\tqdm\\auto.py:21: TqdmWarning: IProgress not found. Please update jupyter and ipywidgets. See https://ipywidgets.readthedocs.io/en/stable/user_install.html\n",
      "  from .autonotebook import tqdm as notebook_tqdm\n"
     ]
    }
   ],
   "source": [
    "# env = EnvironmentGoogleSnake()\n",
    "# env = PreProcessEnv(env)\n",
    "from maze import Maze\n",
    "\n",
    "# Constants\n",
    "GAME_HEIGHT = 600\n",
    "GAME_WIDTH = 600\n",
    "NUMBER_OF_TILES = 25\n",
    "SCREEN_HEIGHT = 700\n",
    "SCREEN_WIDTH = 700\n",
    "TILE_SIZE = GAME_HEIGHT // NUMBER_OF_TILES\n",
    "\n",
    "# Maze layout\n",
    "level = [\n",
    "    \"XXXXXXXXXXXXXXXXXXXXXXXXX\",\n",
    "    \"X XXXXXXXX          XXXXX\",\n",
    "    \"X XXXXXXXX  XXXXXX  XXXXX\",\n",
    "    \"X      XXX  XXXXXX  XXXXX\",\n",
    "    \"X   P  XXX  XXX         X\",\n",
    "    \"XXXXXX  XX  XXX        XX\",\n",
    "    \"XXXXXX  XX  XXXXXX  XXXXX\",\n",
    "    \"XXXXXX  XX  XXXXXX  XXXXX\",\n",
    "    \"X  XXX      XXXXXXXXXXXXX\",\n",
    "    \"X  XXX  XXXXXXXXXXXXXXXXX\",\n",
    "    \"X         XXXXXXXXXXXXXXX\",\n",
    "    \"X             XXXXXXXXXXX\",\n",
    "    \"XXXXXXXXXXX      XXXXX  X\",\n",
    "    \"XXXXXXXXXXXXXXX  XXXXX  X\",\n",
    "    \"XXX  XXXXXXXXXX         X\",\n",
    "    \"XXX                     X\",\n",
    "    \"XXX         XXXXXXXXXXXXX\",\n",
    "    \"XXXXXXXXXX  XXXXXXXXXXXXX\",\n",
    "    \"XXXXXXXXXX              X\",\n",
    "    \"XX   XXXXX              X\",\n",
    "    \"XX   XXXXXXXXXXXXX  XXXXX\",\n",
    "    \"XX    XXXXXXXXXXXX  XXXXX\",\n",
    "    \"XX        XXXX          X\",\n",
    "    \"XXXX                    X\",\n",
    "    \"XXXXXXXXXXXXXXXXXXXXXXXXX\",\n",
    "]\n",
    "\n",
    "env = Maze(\n",
    "    level,\n",
    "    goal_pos=(23, 20),\n",
    "    MAZE_HEIGHT=GAME_HEIGHT,\n",
    "    MAZE_WIDTH=GAME_WIDTH,\n",
    "    SIZE=NUMBER_OF_TILES,\n",
    ")\n",
    "env = PreProcessEnv(env)\n",
    "NO_OF_ACTIONS = 4\n",
    "\n",
    "# env.unwrapped.start()\n",
    "state = env.reset()\n",
    "\n"
   ]
  },
  {
   "cell_type": "code",
   "execution_count": 4,
   "metadata": {},
   "outputs": [
    {
     "name": "stdout",
     "output_type": "stream",
     "text": [
      "Next State: tensor([[4., 4.]]), Reward: tensor([[-1.]]), Done: tensor([[False]]), Info: {}\n"
     ]
    }
   ],
   "source": [
    "next_state, reward, done, info = env.step(torch.randint(4, (1,1)))\n",
    "\n",
    "print(f\"Next State: {next_state}, Reward: {reward}, Done: {done}, Info: {info}\")"
   ]
  },
  {
   "cell_type": "code",
   "execution_count": 5,
   "metadata": {},
   "outputs": [],
   "source": [
    "class DeepRLModel(torch.nn.Module):\n",
    "\n",
    "    def __init__(self):\n",
    "        super().__init__()\n",
    "        self.classifier= torch.nn.Sequential(\n",
    "            nn.Linear(2, 128),\n",
    "            nn.ReLU(),\n",
    "            nn.Linear(128, 64),\n",
    "            nn.ReLU(),\n",
    "            nn.Linear(64, 4),\n",
    "        )\n",
    "    def forward(self, x: torch.Tensor):\n",
    "        return self.classifier(x)"
   ]
  },
  {
   "cell_type": "code",
   "execution_count": 6,
   "metadata": {},
   "outputs": [
    {
     "data": {
      "text/plain": [
       "==========================================================================================\n",
       "Layer (type:depth-idx)                   Output Shape              Param #\n",
       "==========================================================================================\n",
       "DeepRLModel                              [3, 4]                    --\n",
       "├─Sequential: 1-1                        [3, 4]                    --\n",
       "│    └─Linear: 2-1                       [3, 128]                  384\n",
       "│    └─ReLU: 2-2                         [3, 128]                  --\n",
       "│    └─Linear: 2-3                       [3, 64]                   8,256\n",
       "│    └─ReLU: 2-4                         [3, 64]                   --\n",
       "│    └─Linear: 2-5                       [3, 4]                    260\n",
       "==========================================================================================\n",
       "Total params: 8,900\n",
       "Trainable params: 8,900\n",
       "Non-trainable params: 0\n",
       "Total mult-adds (M): 0.03\n",
       "==========================================================================================\n",
       "Input size (MB): 0.00\n",
       "Forward/backward pass size (MB): 0.00\n",
       "Params size (MB): 0.04\n",
       "Estimated Total Size (MB): 0.04\n",
       "=========================================================================================="
      ]
     },
     "execution_count": 6,
     "metadata": {},
     "output_type": "execute_result"
    }
   ],
   "source": [
    "device = torch.device(\"cuda:0\" if torch.cuda.is_available() else \"cpu\")\n",
    "# device = torch.device(\"cpu\")\n",
    "q_network = DeepRLModel().to(device)\n",
    "summary(q_network, (3, 2))\n"
   ]
  },
  {
   "cell_type": "code",
   "execution_count": 7,
   "metadata": {},
   "outputs": [
    {
     "data": {
      "text/plain": [
       "DeepRLModel(\n",
       "  (classifier): Sequential(\n",
       "    (0): Linear(in_features=2, out_features=128, bias=True)\n",
       "    (1): ReLU()\n",
       "    (2): Linear(in_features=128, out_features=64, bias=True)\n",
       "    (3): ReLU()\n",
       "    (4): Linear(in_features=64, out_features=4, bias=True)\n",
       "  )\n",
       ")"
      ]
     },
     "execution_count": 7,
     "metadata": {},
     "output_type": "execute_result"
    }
   ],
   "source": [
    "target_q_network = copy.deepcopy(q_network).to(device)\n",
    "target_q_network.eval()"
   ]
  },
  {
   "cell_type": "code",
   "execution_count": 8,
   "metadata": {},
   "outputs": [
    {
     "data": {
      "text/plain": [
       "tensor([[ 0.1284, -0.2936, -0.2326,  0.1474]], device='cuda:0',\n",
       "       grad_fn=<AddmmBackward0>)"
      ]
     },
     "execution_count": 8,
     "metadata": {},
     "output_type": "execute_result"
    }
   ],
   "source": [
    "q_network(next_state.to(device))"
   ]
  },
  {
   "cell_type": "code",
   "execution_count": 9,
   "metadata": {},
   "outputs": [],
   "source": [
    "def policy(state, epsilon = 0.05):\n",
    "    if torch.rand(1) < epsilon:\n",
    "        return torch.randint(4, (1, 1))\n",
    "    else:\n",
    "        av = q_network(state.to(device))\n",
    "        return torch.argmax(av, dim = -1, keepdim = True)"
   ]
  },
  {
   "cell_type": "code",
   "execution_count": 10,
   "metadata": {},
   "outputs": [],
   "source": [
    "from torch.optim import AdamW\n",
    "from memory import ReplayMemory\n",
    "from tqdm import tqdm\n",
    "import torch.nn.functional as F\n",
    "\n",
    "def deep_sarsa(q_network:DeepRLModel, policy, episodes, alpha=0.001, batch_size=64, gamma=0.99, epsilon=0.5):\n",
    "    optim = AdamW(q_network.parameters(), lr=alpha)\n",
    "    memory = ReplayMemory(capacity = 1000000)\n",
    "    stats = {'MSE Loss': [], 'Returns': []}\n",
    "    \n",
    "    for episode in tqdm(range(1, episodes + 1)):\n",
    "        state = env.reset()\n",
    "        done = False\n",
    "        ep_return = 0\n",
    "        while not done:\n",
    "            action = policy(state, epsilon)\n",
    "            next_state, reward, done, _ = env.step(action)\n",
    "            next_state = next_state.to(device)\n",
    "            reward = reward.to(device)\n",
    "            done = done.to(device)\n",
    "            memory.insert([state, action, reward, done, next_state])\n",
    "            \n",
    "            if memory.can_sample(batch_size):\n",
    "                state_b, action_b, reward_b, done_b, next_state_b = memory.sample(batch_size)\n",
    "\n",
    "                state_b = state_b.to(device)\n",
    "                reward_b = reward_b.to(device)\n",
    "                done_b = done_b.to(device)\n",
    "                next_state_b = next_state_b.to(device)\n",
    "                action_b = action_b.to(device)\n",
    "                          \n",
    "                qsa_b = q_network(state_b).gather(1, action_b).to(device)\n",
    "\n",
    "                next_qsa_b = torch.argmax(target_q_network(next_state_b), dim = -1, keepdim = True)\n",
    "                target_b = reward_b + ~done_b * gamma * next_qsa_b\n",
    "\n",
    "                \n",
    "                loss = F.mse_loss(qsa_b, target_b.to(device))\n",
    "                q_network.zero_grad()\n",
    "                loss.backward()\n",
    "                optim.step()\n",
    "                \n",
    "                loss.item()\n",
    "                stats['MSE Loss'].append(loss.item())\n",
    "            \n",
    "            state = next_state\n",
    "            ep_return += reward.item()\n",
    "        \n",
    "        stats['Returns'].append(ep_return)\n",
    "        if episode % 100 == 0:\n",
    "            target_q_network.load_state_dict(q_network.state_dict())\n",
    "        \n",
    "    return stats"
   ]
  },
  {
   "cell_type": "code",
   "execution_count": 11,
   "metadata": {},
   "outputs": [
    {
     "name": "stderr",
     "output_type": "stream",
     "text": [
      "  0%|          | 0/100 [12:57<?, ?it/s]\n"
     ]
    },
    {
     "ename": "KeyboardInterrupt",
     "evalue": "",
     "output_type": "error",
     "traceback": [
      "\u001b[1;31m---------------------------------------------------------------------------\u001b[0m",
      "\u001b[1;31mKeyboardInterrupt\u001b[0m                         Traceback (most recent call last)",
      "\u001b[1;32md:\\Documents\\Projects\\Reinforcement Learning\\snake\\maze_dqn.ipynb Cell 11\u001b[0m line \u001b[0;36m1\n\u001b[1;32m----> <a href='vscode-notebook-cell:/d%3A/Documents/Projects/Reinforcement%20Learning/snake/maze_dqn.ipynb#X13sZmlsZQ%3D%3D?line=0'>1</a>\u001b[0m stats \u001b[39m=\u001b[39m deep_sarsa(q_network, policy, episodes  \u001b[39m=\u001b[39;49m \u001b[39m100\u001b[39;49m)\n",
      "\u001b[1;32md:\\Documents\\Projects\\Reinforcement Learning\\snake\\maze_dqn.ipynb Cell 11\u001b[0m line \u001b[0;36m2\n\u001b[0;32m     <a href='vscode-notebook-cell:/d%3A/Documents/Projects/Reinforcement%20Learning/snake/maze_dqn.ipynb#X13sZmlsZQ%3D%3D?line=20'>21</a>\u001b[0m memory\u001b[39m.\u001b[39minsert([state, action, reward, done, next_state])\n\u001b[0;32m     <a href='vscode-notebook-cell:/d%3A/Documents/Projects/Reinforcement%20Learning/snake/maze_dqn.ipynb#X13sZmlsZQ%3D%3D?line=22'>23</a>\u001b[0m \u001b[39mif\u001b[39;00m memory\u001b[39m.\u001b[39mcan_sample(batch_size):\n\u001b[1;32m---> <a href='vscode-notebook-cell:/d%3A/Documents/Projects/Reinforcement%20Learning/snake/maze_dqn.ipynb#X13sZmlsZQ%3D%3D?line=23'>24</a>\u001b[0m     state_b, action_b, reward_b, done_b, next_state_b \u001b[39m=\u001b[39m memory\u001b[39m.\u001b[39;49msample(batch_size)\n\u001b[0;32m     <a href='vscode-notebook-cell:/d%3A/Documents/Projects/Reinforcement%20Learning/snake/maze_dqn.ipynb#X13sZmlsZQ%3D%3D?line=25'>26</a>\u001b[0m     state_b \u001b[39m=\u001b[39m state_b\u001b[39m.\u001b[39mto(device)\n\u001b[0;32m     <a href='vscode-notebook-cell:/d%3A/Documents/Projects/Reinforcement%20Learning/snake/maze_dqn.ipynb#X13sZmlsZQ%3D%3D?line=26'>27</a>\u001b[0m     reward_b \u001b[39m=\u001b[39m reward_b\u001b[39m.\u001b[39mto(device)\n",
      "File \u001b[1;32md:\\Documents\\Projects\\Reinforcement Learning\\snake\\memory.py:26\u001b[0m, in \u001b[0;36mReplayMemory.sample\u001b[1;34m(self, batch_size)\u001b[0m\n\u001b[0;32m     24\u001b[0m transitions \u001b[39m=\u001b[39m random\u001b[39m.\u001b[39msample(\u001b[39mself\u001b[39m\u001b[39m.\u001b[39mmemory, batch_size)\n\u001b[0;32m     25\u001b[0m batch \u001b[39m=\u001b[39m \u001b[39mzip\u001b[39m(\u001b[39m*\u001b[39mtransitions)\n\u001b[1;32m---> 26\u001b[0m \u001b[39mreturn\u001b[39;00m  [torch\u001b[39m.\u001b[39mcat([item\u001b[39m.\u001b[39mto(device) \u001b[39mfor\u001b[39;00m item \u001b[39min\u001b[39;00m items]) \u001b[39mfor\u001b[39;00m items \u001b[39min\u001b[39;00m batch]\n",
      "File \u001b[1;32md:\\Documents\\Projects\\Reinforcement Learning\\snake\\memory.py:26\u001b[0m, in \u001b[0;36m<listcomp>\u001b[1;34m(.0)\u001b[0m\n\u001b[0;32m     24\u001b[0m transitions \u001b[39m=\u001b[39m random\u001b[39m.\u001b[39msample(\u001b[39mself\u001b[39m\u001b[39m.\u001b[39mmemory, batch_size)\n\u001b[0;32m     25\u001b[0m batch \u001b[39m=\u001b[39m \u001b[39mzip\u001b[39m(\u001b[39m*\u001b[39mtransitions)\n\u001b[1;32m---> 26\u001b[0m \u001b[39mreturn\u001b[39;00m  [torch\u001b[39m.\u001b[39mcat([item\u001b[39m.\u001b[39mto(device) \u001b[39mfor\u001b[39;00m item \u001b[39min\u001b[39;00m items]) \u001b[39mfor\u001b[39;00m items \u001b[39min\u001b[39;00m batch]\n",
      "File \u001b[1;32md:\\Documents\\Projects\\Reinforcement Learning\\snake\\memory.py:26\u001b[0m, in \u001b[0;36m<listcomp>\u001b[1;34m(.0)\u001b[0m\n\u001b[0;32m     24\u001b[0m transitions \u001b[39m=\u001b[39m random\u001b[39m.\u001b[39msample(\u001b[39mself\u001b[39m\u001b[39m.\u001b[39mmemory, batch_size)\n\u001b[0;32m     25\u001b[0m batch \u001b[39m=\u001b[39m \u001b[39mzip\u001b[39m(\u001b[39m*\u001b[39mtransitions)\n\u001b[1;32m---> 26\u001b[0m \u001b[39mreturn\u001b[39;00m  [torch\u001b[39m.\u001b[39mcat([item\u001b[39m.\u001b[39;49mto(device) \u001b[39mfor\u001b[39;00m item \u001b[39min\u001b[39;00m items]) \u001b[39mfor\u001b[39;00m items \u001b[39min\u001b[39;00m batch]\n",
      "\u001b[1;31mKeyboardInterrupt\u001b[0m: "
     ]
    }
   ],
   "source": [
    "stats = deep_sarsa(q_network, policy, episodes  = 100)"
   ]
  }
 ],
 "metadata": {
  "kernelspec": {
   "display_name": "autodrive-env",
   "language": "python",
   "name": "python3"
  },
  "language_info": {
   "codemirror_mode": {
    "name": "ipython",
    "version": 3
   },
   "file_extension": ".py",
   "mimetype": "text/x-python",
   "name": "python",
   "nbconvert_exporter": "python",
   "pygments_lexer": "ipython3",
   "version": "3.10.12"
  }
 },
 "nbformat": 4,
 "nbformat_minor": 2
}
